{
 "cells": [
  {
   "cell_type": "code",
   "execution_count": null,
   "metadata": {},
   "outputs": [],
   "source": [
    "# default_exp diagnoser"
   ]
  },
  {
   "cell_type": "markdown",
   "metadata": {},
   "source": [
    "# Diagnoser\n",
    "\n",
    "> Diagnostic metrics for datasets."
   ]
  },
  {
   "cell_type": "code",
   "execution_count": null,
   "metadata": {},
   "outputs": [],
   "source": [
    "#hide\n",
    "from nbdev.showdoc import *\n",
    "\n",
    "# Put these at the top of every notebook, to get automatic reloading and inline plotting\n",
    "%reload_ext autoreload\n",
    "%autoreload 2\n",
    "%matplotlib inline"
   ]
  },
  {
   "cell_type": "code",
   "execution_count": null,
   "metadata": {},
   "outputs": [],
   "source": [
    "# export\n",
    "import torch\n",
    "from multiprocessing import Pool\n",
    "import numpy as np\n",
    "from scipy.spatial.distance import cosine as cos_distance\n",
    "from rdkit.Chem.AllChem import GetMorganFingerprintAsBitVect\n",
    "\n",
    "def mapper(n_jobs):\n",
    "    '''\n",
    "    Function for parallel computing: \n",
    "    Original Implementation: https://github.com/molecularsets/moses/blob/master/moses/utils.py\n",
    "    \n",
    "    Returns function for map call.\n",
    "    If n_jobs == 1, will use standard map\n",
    "    If n_jobs > 1, will use multiprocessing pool\n",
    "    If n_jobs is a pool object, will return its map function\n",
    "    '''\n",
    "    if n_jobs == 1:\n",
    "        def _mapper(*args, **kwargs):\n",
    "            return list(map(*args, **kwargs))\n",
    "\n",
    "        return _mapper\n",
    "    elif isinstance(n_jobs, int):\n",
    "        pool = Pool(n_jobs)\n",
    "\n",
    "        def _mapper(*args, **kwargs):\n",
    "            try:\n",
    "                result = pool.map(*args, **kwargs)\n",
    "            finally:\n",
    "                pool.terminate()\n",
    "            return result\n",
    "\n",
    "        return _mapper\n",
    "    else:\n",
    "        return n_jobs.map\n",
    "    \n",
    "def cos_similarity(train_counts, test_counts):\n",
    "    \"\"\"\n",
    "    Computes cosine similarity between two (e.g., train and test)\n",
    "     dictionaries of form {smiles: count}. Non-present\n",
    "     elements are considered zero:\n",
    "     sim = <r, g> / ||r|| / ||g||\n",
    "    \"\"\"\n",
    "    if len(train_counts) == 0 or len(test_counts) == 0:\n",
    "        return np.nan\n",
    "    keys = np.unique(list(train_counts.keys()) + list(test_counts.keys()))\n",
    "    train_vec = np.array([train_counts.get(k, 0) for k in keys])\n",
    "    test_vec = np.array([test_counts.get(k, 0) for k in keys])\n",
    "    return 1 - cos_distance(train_vec, test_vec)\n",
    "\n",
    "def fingerprints_generator(smi):\n",
    "    mol = Chem.MolFromSmiles(smi)\n",
    "    fingerprint = np.asarray(GetMorganFingerprintAsBitVect(mol,3, nBits=1024))\n",
    "    return fingerprint\n",
    "\n",
    "def collect_fingerprints(smi_list, n_jobs=1):\n",
    "    '''\n",
    "    Generates Morgan fingerprint (radius=3, bit= 1024) for a list of SMILES.\n",
    "    \n",
    "    '''\n",
    "    morgan_fps = mapper(n_jobs)(\n",
    "        partial(fingerprints_generator), smi_list\n",
    "    )\n",
    "    morgan_fps = np.vstack(morgan_fps)\n",
    "    return morgan_fps\n",
    "\n",
    "def average_agg_tanimoto(stock_vecs, gen_vecs,\n",
    "                         batch_size=5000, agg='max',\n",
    "                         device='cpu', p=1):\n",
    "    \"\"\"\n",
    "    For each molecule in gen_vecs finds closest molecule in stock_vecs.\n",
    "    Returns average tanimoto score for between these molecules\n",
    "    Parameters:\n",
    "        stock_vecs: numpy array <n_vectors x dim>\n",
    "        gen_vecs: numpy array <n_vectors' x dim>\n",
    "        agg: max or mean\n",
    "        p: power for averaging: (mean x^p)^(1/p)\n",
    "    \"\"\"\n",
    "    assert agg in ['max', 'mean'], \"Can aggregate only max or mean\"\n",
    "    agg_tanimoto = np.zeros(len(gen_vecs))\n",
    "    total = np.zeros(len(gen_vecs))\n",
    "    for j in range(0, stock_vecs.shape[0], batch_size):\n",
    "        x_stock = torch.tensor(stock_vecs[j:j + batch_size]).to(device).float()\n",
    "        for i in range(0, gen_vecs.shape[0], batch_size):\n",
    "            y_gen = torch.tensor(gen_vecs[i:i + batch_size]).to(device).float()\n",
    "            y_gen = y_gen.transpose(0, 1)\n",
    "            tp = torch.mm(x_stock, y_gen)\n",
    "            jac = (tp / (x_stock.sum(1, keepdim=True) +\n",
    "                         y_gen.sum(0, keepdim=True) - tp)).cpu().numpy()\n",
    "            jac[np.isnan(jac)] = 1\n",
    "            if p != 1:\n",
    "                jac = jac**p\n",
    "            if agg == 'max':\n",
    "                agg_tanimoto[i:i + y_gen.shape[1]] = np.maximum(\n",
    "                    agg_tanimoto[i:i + y_gen.shape[1]], jac.max(0))\n",
    "            elif agg == 'mean':\n",
    "                agg_tanimoto[i:i + y_gen.shape[1]] += jac.sum(0)\n",
    "                total[i:i + y_gen.shape[1]] += jac.shape[0]\n",
    "    if agg == 'mean':\n",
    "        agg_tanimoto /= total\n",
    "    if p != 1:\n",
    "        agg_tanimoto = (agg_tanimoto)**(1/p)\n",
    "    return np.mean(agg_tanimoto)"
   ]
  },
  {
   "cell_type": "markdown",
   "metadata": {},
   "source": [
    "## Fragment Similarity"
   ]
  },
  {
   "cell_type": "code",
   "execution_count": null,
   "metadata": {},
   "outputs": [],
   "source": [
    "# export\n",
    "\n",
    "from collections import Counter\n",
    "from rdkit.Chem import AllChem\n",
    "from rdkit import Chem\n",
    "\n",
    "def fragments_generator(smi):\n",
    "    \"\"\"\n",
    "    fragment mol using BRICS and return smiles list\n",
    "    \"\"\"\n",
    "    fgs = AllChem.FragmentOnBRICSBonds(Chem.MolFromSmiles(smi))\n",
    "    fgs_smi = Chem.MolToSmiles(fgs).split(\".\")\n",
    "    return fgs_smi"
   ]
  },
  {
   "cell_type": "code",
   "execution_count": null,
   "metadata": {},
   "outputs": [
    {
     "data": {
      "image/png": "[encoded data removed]",
      "text/plain": [
       "<rdkit.Chem.rdchem.Mol at 0x7f4e218d8170>"
      ]
     },
     "execution_count": null,
     "metadata": {},
     "output_type": "execute_result"
    }
   ],
   "source": [
    "from rdkit.Chem import Draw\n",
    "from rdkit.Chem.Draw import IPythonConsole\n",
    "\n",
    "smi = 'O=C(O)c1ccc(C[S](=O)=O)cc1'\n",
    "mol = Chem.MolFromSmiles(smi)\n",
    "mol"
   ]
  },
  {
   "cell_type": "code",
   "execution_count": null,
   "metadata": {},
   "outputs": [
    {
     "data": {
      "image/png": "[encoded data removed]",
      "text/plain": [
       "<PIL.PngImagePlugin.PngImageFile image mode=RGB size=600x200 at 0x7F4E21B0FE80>"
      ]
     },
     "execution_count": null,
     "metadata": {},
     "output_type": "execute_result"
    }
   ],
   "source": [
    "frgs = fragments_generator(smi)\n",
    "Draw.MolsToGridImage([Chem.MolFromSmiles(x) for x in frgs])"
   ]
  },
  {
   "cell_type": "code",
   "execution_count": null,
   "metadata": {},
   "outputs": [],
   "source": [
    "# export\n",
    "def collect_fragments(smi_list, n_jobs=1):\n",
    "    \"\"\"\n",
    "    fragment a list of smiles using BRICS and return a dictionary of form {'fragment smiles': count}\n",
    "    \"\"\"\n",
    "    fragments = Counter()\n",
    "    for mol_frag in mapper(n_jobs)(fragments_generator, smi_list):\n",
    "        fragments.update(mol_frag)\n",
    "    return fragments"
   ]
  },
  {
   "cell_type": "code",
   "execution_count": null,
   "metadata": {},
   "outputs": [
    {
     "data": {
      "text/plain": [
       "Counter({'[16*]c1ccc([16*])cc1': 1,\n",
       "         '[6*]C(=O)O': 2,\n",
       "         '[8*]C[S](=O)=O': 1,\n",
       "         '[16*]c1ccccc1': 1,\n",
       "         'N[C@H](CCC=O)C(=O)O': 1,\n",
       "         'N[C@@H](CCC=O)C(=O)O': 1})"
      ]
     },
     "execution_count": null,
     "metadata": {},
     "output_type": "execute_result"
    }
   ],
   "source": [
    "smiles_list = ['O=C(O)c1ccc(C[S](=O)=O)cc1',\n",
    "         'O=C(O)c1ccccc1',\n",
    "          'N[C@H](CCC=O)C(=O)O',\n",
    "          'N[C@@H](CCC=O)C(=O)O'\n",
    "         ]\n",
    "\n",
    "collect_fragments(smiles_list)"
   ]
  },
  {
   "cell_type": "code",
   "execution_count": null,
   "metadata": {},
   "outputs": [],
   "source": [
    "smi_list2 = ['O=C(O)c1ccc(C[S](=O)=O)cc1',\n",
    "         'O=C(O)c1ccccc1',\n",
    "          'N[C@H](CCC=O)C(=O)O',\n",
    "          'N[C@@H](CCC=O)C(=O)O',\n",
    "          'O=c1cccc[nH]1',\n",
    "          'Oc1ccccn1', 'CSc1c(C(=O)NC2C3CC4CC(C3)CC2C4)cnn1-c1ccc(C(=O)O)cc1']"
   ]
  },
  {
   "cell_type": "markdown",
   "metadata": {},
   "source": [
    "## Functional Groups Similarity"
   ]
  },
  {
   "cell_type": "code",
   "execution_count": null,
   "metadata": {},
   "outputs": [],
   "source": [
    "# export\n",
    "\n",
    "from rdkit.Chem import rdmolops\n",
    "\n",
    "def merge(mol, marked, aset):\n",
    "    bset = set()\n",
    "    for idx in aset:\n",
    "        atom = mol.GetAtomWithIdx(idx)\n",
    "        for nbr in atom.GetNeighbors():\n",
    "            jdx = nbr.GetIdx()\n",
    "            if jdx in marked:\n",
    "                marked.remove(jdx)\n",
    "                bset.add(jdx)\n",
    "    if not bset:\n",
    "        return\n",
    "    merge(mol, marked, bset)\n",
    "    aset.update(bset)\n",
    "\n",
    "## Heteroatoms connected to an aliphatic atom (by single, double or triple bond), to avoid single aromatic heteroatoms\n",
    "PATT_HETERO = Chem.MolFromSmarts(\"[!#6;!#1]\")\n",
    "# atoms connected by non-aromatic double or triple bond to any heteroatom\n",
    "# c=O should not match (see fig1, box 15).  I think using A instead of * should sort that out?\n",
    "## Using C explicitly indicates non-aromatic carbons, we changed this beacuse we use explicit hydrogens in the molecule, that would be matched by A \n",
    "PATT_DOUBLE_TRIPLE = Chem.MolFromSmarts('C=,#[!#6]')\n",
    "# atoms in non aromatic carbon-carbon double or triple bonds\n",
    "PATT_CC_DOUBLE_TRIPLE = Chem.MolFromSmarts('C=,#C')\n",
    "# acetal carbons, i.e. sp3 carbons connected to tow or more oxygens, nitrogens or sulfurs; these O, N or S atoms must have only single bonds\n",
    "PATT_ACETAL = Chem.MolFromSmarts('[CX4](-[O,N,S])-[O,N,S]')\n",
    "# all atoms in oxirane, aziridine and thiirane rings\n",
    "PATT_OXIRANE_ETC = Chem.MolFromSmarts('[O,N,S]1CC1')\n",
    "\n",
    "PATT_TUPLE = (PATT_HETERO, PATT_DOUBLE_TRIPLE, PATT_CC_DOUBLE_TRIPLE, PATT_ACETAL, PATT_OXIRANE_ETC)\n",
    "\n",
    "def funcgps_generator(smi):\n",
    "    ## We decided to start from a SMILES and add explicit hydrogens inside the function\n",
    "    mol = Chem.MolFromSmiles(smi)\n",
    "    mol = rdmolops.AddHs(mol)\n",
    "    try:\n",
    "        marked = set()\n",
    "    ## Since heteroatoms are included in PATT_TUPLE, we remove the first part of the original function \n",
    "        for patt in PATT_TUPLE:\n",
    "            for path in mol.GetSubstructMatches(patt):\n",
    "                for atomindex in path:\n",
    "                    marked.add(atomindex)\n",
    "\n",
    "    #merge all connected marked atoms to a single FG\n",
    "        groups = []\n",
    "        while marked:\n",
    "            grp = set([marked.pop()])\n",
    "            merge(mol, marked, grp)\n",
    "            groups.append(grp)\n",
    "        groups = [list(x) for x in groups]\n",
    "        \n",
    "    ## It seems that the initial filtering of heteroatoms was not enough, so we add this to remove groups with only aromatic atoms\n",
    "        for g in groups:\n",
    "            group_aromaticity = set([mol.GetAtomWithIdx(idx).GetIsAromatic() for idx in g])\n",
    "            if group_aromaticity == {True}:\n",
    "                groups.remove(g)\n",
    "        \n",
    "    ## Identify bonds to break and hydrogens to keep for every FG\n",
    "        bonds = []\n",
    "        labels = []\n",
    "        for g in groups:\n",
    "            group_bonds = []\n",
    "            group_labels = []\n",
    "            for idx in g:\n",
    "                atom = mol.GetAtomWithIdx(idx)\n",
    "                \n",
    "                ## Carbon atoms\n",
    "                if atom.GetAtomicNum() == 6:\n",
    "                    for nbr in atom.GetNeighbors():\n",
    "                        ## Carbonyl groups to disciminate between aldehydes and ketones\n",
    "                        if nbr.GetAtomicNum() == 8 and str(mol.GetBondBetweenAtoms(idx,nbr.GetIdx()).GetBondType()) == \"DOUBLE\":\n",
    "                            PreserveH = True\n",
    "                            break\n",
    "                        else:\n",
    "                            PreserveH = False\n",
    "                    if PreserveH == True:\n",
    "                        for nbr in atom.GetNeighbors():\n",
    "                            jdx = nbr.GetIdx()\n",
    "                            if jdx not in g and nbr.GetAtomicNum() != 1:\n",
    "                                group_bonds.append(mol.GetBondBetweenAtoms(idx,jdx).GetIdx())\n",
    "                                group_labels.append((0,0))\n",
    "                    else:\n",
    "                        for nbr in atom.GetNeighbors():\n",
    "                            jdx = nbr.GetIdx()\n",
    "                            if jdx not in g:\n",
    "                                group_bonds.append(mol.GetBondBetweenAtoms(idx,jdx).GetIdx())\n",
    "                                group_labels.append((0,0))\n",
    "                ## Nitrogen atoms\n",
    "                elif atom.GetAtomicNum() == 7:\n",
    "                    ## To discriminate between anilines and amines (primary, secondary, etc)\n",
    "                    if len(g) == 1:\n",
    "                        neigh_atn = [x.GetAtomicNum() for x in atom.GetNeighbors() if x.GetAtomicNum() != 1]\n",
    "                        if neigh_atn.count(6) == 1:\n",
    "                            for nbr in atom.GetNeighbors():\n",
    "                                jdx = nbr.GetIdx()\n",
    "                                if jdx not in g and nbr.GetAtomicNum() != 1:\n",
    "                                    group_bonds.append(mol.GetBondBetweenAtoms(idx,jdx).GetIdx())\n",
    "                                    if nbr.GetIsAromatic() == True:\n",
    "                                        group_labels.append((1,1))\n",
    "                                    else:\n",
    "                                        group_labels.append((0,0))\n",
    "                        else:\n",
    "                            for nbr in atom.GetNeighbors():\n",
    "                                jdx = nbr.GetIdx()\n",
    "                                if jdx not in g and nbr.GetAtomicNum() != 1:\n",
    "                                    group_bonds.append(mol.GetBondBetweenAtoms(idx,jdx).GetIdx())\n",
    "                                    group_labels.append((0,0))\n",
    "                    else:\n",
    "                        for nbr in atom.GetNeighbors():\n",
    "                            jdx = nbr.GetIdx()\n",
    "                            if jdx not in g:\n",
    "                                group_bonds.append(mol.GetBondBetweenAtoms(idx,jdx).GetIdx())\n",
    "                                group_labels.append((0,0))\n",
    "\n",
    "                ## Oxygen atoms\n",
    "                elif atom.GetAtomicNum() == 8:\n",
    "                    ## To discriminate between alcohols from phenols and esthers from carboxylic acids\n",
    "                    if len(g) == 1:\n",
    "                        neigh_atn = [x.GetAtomicNum() for x in atom.GetNeighbors() if x.GetAtomicNum() != 1]\n",
    "                        if len(neigh_atn) == 1 and neigh_atn.count(6) == 1:\n",
    "                            for nbr in atom.GetNeighbors():\n",
    "                                jdx = nbr.GetIdx()\n",
    "                                if jdx not in g and (nbr.GetAtomicNum() != 1):\n",
    "                                    group_bonds.append(mol.GetBondBetweenAtoms(idx,jdx).GetIdx())\n",
    "                                    if nbr.GetIsAromatic() == True:\n",
    "                                        group_labels.append((1,1))\n",
    "                                    else:\n",
    "                                        group_labels.append((0,0))\n",
    "                        else:\n",
    "                            for nbr in atom.GetNeighbors():\n",
    "                                jdx = nbr.GetIdx()\n",
    "                                if jdx not in g and nbr.GetAtomicNum() != 1:\n",
    "                                    group_bonds.append(mol.GetBondBetweenAtoms(idx,jdx).GetIdx())\n",
    "                                    group_labels.append((0,0))                        \n",
    "                    else:\n",
    "                        for nbr in atom.GetNeighbors():\n",
    "                            jdx = nbr.GetIdx()\n",
    "                            if jdx not in g and nbr.GetAtomicNum() != 1:\n",
    "                                group_bonds.append(mol.GetBondBetweenAtoms(idx,jdx).GetIdx())\n",
    "                                group_labels.append((0,0))\n",
    "\n",
    "                ## Sulfur atoms\n",
    "                elif atom.GetAtomicNum() == 16:\n",
    "                    if len(g) == 1:\n",
    "                        for nbr in atom.GetNeighbors():\n",
    "                            jdx = nbr.GetIdx()\n",
    "                            if jdx not in g and nbr.GetAtomicNum() != 1:\n",
    "                                group_bonds.append(mol.GetBondBetweenAtoms(idx,jdx).GetIdx())\n",
    "                                group_labels.append((0,0))\n",
    "                    else:\n",
    "                        for nbr in atom.GetNeighbors():\n",
    "                            jdx = nbr.GetIdx()\n",
    "                            if jdx not in g:\n",
    "                                group_bonds.append(mol.GetBondBetweenAtoms(idx,jdx).GetIdx())\n",
    "                                group_labels.append((0,0))\n",
    "\n",
    "                else:               \n",
    "                    for nbr in atom.GetNeighbors():\n",
    "                        jdx = nbr.GetIdx()\n",
    "                        if jdx not in g:\n",
    "                            group_bonds.append(mol.GetBondBetweenAtoms(idx,jdx).GetIdx())\n",
    "                            group_labels.append((0,0))\n",
    "            labels.append(group_labels)\n",
    "            bonds.append(group_bonds)\n",
    "\n",
    "    ## Build final fragments\n",
    "        FGS_ENVS = []\n",
    "        for i in range(len(groups)):\n",
    "            Frag = Chem.FragmentOnBonds(mol,bonds[i], dummyLabels = labels[i])\n",
    "            Frags = rdmolops.GetMolFrags(Frag)\n",
    "            for j in Frags:\n",
    "                if groups[i][0] in j:\n",
    "                    FGS_ENVS.append(Chem.MolFragmentToSmiles(Frag, j, canonical=True, allHsExplicit=True))\n",
    "        FGS_ENVS = list(set(FGS_ENVS))\n",
    "        for i in FGS_ENVS:\n",
    "            if Chem.MolFromSmiles(i) == None:\n",
    "                FG = Chem.MolFromSmarts(i)\n",
    "            else:\n",
    "                FG = Chem.MolFromSmiles(i)\n",
    "            if set([atom.GetIsAromatic() for atom in FG.GetAtoms() if atom.GetSymbol() not in [\"*\",\"H\"]]) == {True}:\n",
    "                FGS_ENVS.remove(i)\n",
    "        return FGS_ENVS \n",
    "    \n",
    "    except:\n",
    "        ## When the molecules is as small as a single FG\n",
    "        FGS_ENVS = [Chem.MolToSmiles(mol, canonical=True, allHsExplicit=True)]\n",
    "        return FGS_ENVS\n"
   ]
  },
  {
   "cell_type": "code",
   "execution_count": null,
   "metadata": {},
   "outputs": [
    {
     "data": {
      "image/png": "[encoded data removed]",
      "text/plain": [
       "<rdkit.Chem.rdchem.Mol at 0x7f4e21b20d50>"
      ]
     },
     "execution_count": null,
     "metadata": {},
     "output_type": "execute_result"
    }
   ],
   "source": [
    "smi = 'CSc1c(C(=O)NC2C3CC4CC(C3)CC2C4)cnn1-c1ccc(C(=O)O)cc1'\n",
    "mol = Chem.MolFromSmiles(smi)\n",
    "mol"
   ]
  },
  {
   "cell_type": "code",
   "execution_count": null,
   "metadata": {},
   "outputs": [
    {
     "data": {
      "image/png": "[encoded data removed]",
      "text/plain": [
       "<PIL.PngImagePlugin.PngImageFile image mode=RGB size=600x200 at 0x7F4E1C676F10>"
      ]
     },
     "execution_count": null,
     "metadata": {},
     "output_type": "execute_result"
    }
   ],
   "source": [
    "funcgps = funcgps_generator(smi)\n",
    "Draw.MolsToGridImage([Chem.MolFromSmiles(x) for x in funcgps])"
   ]
  },
  {
   "cell_type": "code",
   "execution_count": null,
   "metadata": {},
   "outputs": [],
   "source": [
    "# export\n",
    "def collect_funcgps(smi_list, n_jobs=1):\n",
    "    \"\"\"\n",
    "    find the all functional groups from a list of smiles and return a dictionary of form {'FG smiles': count}\n",
    "    \"\"\"\n",
    "    fragments = Counter()\n",
    "    for mol_frag in mapper(n_jobs)(funcgps_generator, smi_list):\n",
    "        fragments.update(mol_frag)\n",
    "    return fragments"
   ]
  },
  {
   "cell_type": "code",
   "execution_count": null,
   "metadata": {},
   "outputs": [
    {
     "data": {
      "text/plain": [
       "Counter({'[*][C](=[O])[O][H]': 4,\n",
       "         '[*][S](=[O])=[O]': 1,\n",
       "         '[*][N]([H])[H]': 2,\n",
       "         '[*][C]([H])=[O]': 2})"
      ]
     },
     "execution_count": null,
     "metadata": {},
     "output_type": "execute_result"
    }
   ],
   "source": [
    "smiles_list = ['O=C(O)c1ccc(C[S](=O)=O)cc1',\n",
    "         'O=C(O)c1ccccc1',\n",
    "          'N[C@H](CCC=O)C(=O)O',\n",
    "          'N[C@@H](CCC=O)C(=O)O'\n",
    "         ]\n",
    "\n",
    "collect_funcgps(smiles_list)"
   ]
  },
  {
   "cell_type": "markdown",
   "metadata": {},
   "source": [
    "## Scaffold Similarity"
   ]
  },
  {
   "cell_type": "code",
   "execution_count": null,
   "metadata": {},
   "outputs": [],
   "source": [
    "#export\n",
    "import sys\n",
    "from functools import partial\n",
    "sys.path.append('..')\n",
    "from molds.DSsplitter import generate_scaffold\n",
    "\n",
    "def collect_scaffolds(smi_list, n_jobs=1):\n",
    "    \"\"\"\n",
    "    find the all scaffolds from a list of smiles and return a dictionary of form {'scaffold': count}\n",
    "    the liner molecules have no scaffold, will be represented as ''.\n",
    "    \"\"\"\n",
    "    scaffolds = Counter()\n",
    "    map_ = mapper(n_jobs)\n",
    "    scaffolds = Counter(\n",
    "        map_(partial(generate_scaffold), smi_list))\n",
    "    if None in scaffolds:\n",
    "        scaffolds.pop(None)\n",
    "    return scaffolds"
   ]
  },
  {
   "cell_type": "code",
   "execution_count": null,
   "metadata": {},
   "outputs": [
    {
     "data": {
      "image/png": "[encoded data removed]",
      "text/plain": [
       "<rdkit.Chem.rdchem.Mol at 0x7f4e1c686ee0>"
      ]
     },
     "execution_count": null,
     "metadata": {},
     "output_type": "execute_result"
    }
   ],
   "source": [
    "smi = 'O=C(O)c1ccc(C[S](=O)=O)cc1'\n",
    "mol = Chem.MolFromSmiles(smi)\n",
    "mol"
   ]
  },
  {
   "cell_type": "code",
   "execution_count": null,
   "metadata": {},
   "outputs": [
    {
     "data": {
      "image/png": "[encoded data removed]",
      "text/plain": [
       "<rdkit.Chem.rdchem.Mol at 0x7f4e1c686210>"
      ]
     },
     "execution_count": null,
     "metadata": {},
     "output_type": "execute_result"
    }
   ],
   "source": [
    "scaffold = generate_scaffold(smi)\n",
    "Chem.MolFromSmiles(scaffold)"
   ]
  },
  {
   "cell_type": "code",
   "execution_count": null,
   "metadata": {},
   "outputs": [
    {
     "data": {
      "text/plain": [
       "Counter({'c1ccccc1': 2, '': 2})"
      ]
     },
     "execution_count": null,
     "metadata": {},
     "output_type": "execute_result"
    }
   ],
   "source": [
    "collect_scaffolds(smiles_list)"
   ]
  },
  {
   "cell_type": "markdown",
   "metadata": {},
   "source": [
    "## Nearest Neighbor Similarity (SNN)\n",
    "SNN is the average Tanimoto Similarity between a molecule from the test set ad its nearest neighbor molecule in the training set."
   ]
  },
  {
   "cell_type": "code",
   "execution_count": null,
   "metadata": {},
   "outputs": [],
   "source": [
    "#export\n",
    "def SNN(train_smiles, test_smiles,\n",
    "       n_jobs=1, device='cpu', fp_type='morgan', p=1):\n",
    "    '''\n",
    "    Computes average max similarities of test SMILES to train SMILES\n",
    "    '''\n",
    "    train_fps = collect_fingerprints(train_smiles, n_jobs=n_jobs)\n",
    "    test_fps = collect_fingerprints(test_smiles, n_jobs=n_jobs)\n",
    "    return average_agg_tanimoto(train_fps, test_fps,\n",
    "                                    device=device, agg='max')"
   ]
  },
  {
   "cell_type": "markdown",
   "metadata": {},
   "source": [
    "## Internal Diversity\n",
    "Internal diversity arresses the chemical diversity within a set of molecules. A higher values corresponds to a higher diversity."
   ]
  },
  {
   "cell_type": "code",
   "execution_count": null,
   "metadata": {},
   "outputs": [],
   "source": [
    "#export\n",
    "def internal_diversity(smi_list, n_jobs=1, device='cpu', p=1):\n",
    "    \"\"\"\n",
    "    Computes internal diversity as:\n",
    "    1/|A|^2 sum_{x, y in AxA} (1-tanimoto(x, y))\n",
    "    \"\"\"\n",
    "    morgan_fps = collect_fingerprints(smi_list, n_jobs=n_jobs)\n",
    "    return 1 - (average_agg_tanimoto(morgan_fps, morgan_fps,\n",
    "                                     agg='mean', device=device, p=p)).mean()"
   ]
  }
 ],
 "metadata": {
  "kernelspec": {
   "display_name": "Python 3",
   "language": "python",
   "name": "python3"
  }
 },
 "nbformat": 4,
 "nbformat_minor": 4
}
